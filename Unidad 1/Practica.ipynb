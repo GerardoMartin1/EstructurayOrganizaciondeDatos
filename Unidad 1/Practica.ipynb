{
 "cells": [
  {
   "cell_type": "markdown",
   "metadata": {},
   "source": [
    "# Gerardo Martin Gerardo Arballo\n",
    "\n",
    "# Estucturas de organisacion de datos"
   ]
  },
  {
   "cell_type": "code",
   "execution_count": 8,
   "metadata": {},
   "outputs": [
    {
     "name": "stdout",
     "output_type": "stream",
     "text": [
      "\n",
      "La variable x tiene el valor de :  10\n",
      "\n",
      "La variable c tiene el valor de :  5\n",
      "\n",
      "La Animo programador tu puedes\n"
     ]
    }
   ],
   "source": [
    "x=10\n",
    "c=5\n",
    "print(\"\\nLa variable x tiene el valor de : \",x)\n",
    "print(\"\\nLa variable c tiene el valor de : \",c)\n",
    "print(\"\\nLa Animo programador tu puedes\")"
   ]
  },
  {
   "cell_type": "code",
   "execution_count": null,
   "metadata": {},
   "outputs": [],
   "source": []
  }
 ],
 "metadata": {
  "kernelspec": {
   "display_name": "Python 3",
   "language": "python",
   "name": "python3"
  },
  "language_info": {
   "codemirror_mode": {
    "name": "ipython",
    "version": 3
   },
   "file_extension": ".py",
   "mimetype": "text/x-python",
   "name": "python",
   "nbconvert_exporter": "python",
   "pygments_lexer": "ipython3",
   "version": "3.8.3"
  }
 },
 "nbformat": 4,
 "nbformat_minor": 4
}
